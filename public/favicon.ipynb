{
 "cells": [
  {
   "cell_type": "code",
   "execution_count": 7,
   "id": "30fabceb",
   "metadata": {},
   "outputs": [
    {
     "name": "stdout",
     "output_type": "stream",
     "text": [
      "Image sauvegardée : favicon_16x16.png\n",
      "Image sauvegardée : favicon_32x32.png\n",
      "Image sauvegardée : favicon_150x150.png\n",
      "Image sauvegardée : favicon_192x192.png\n",
      "Image sauvegardée : favicon_384x384.png\n",
      "Toutes les images ont été générées avec succès.\n"
     ]
    }
   ],
   "source": [
    "from PIL import Image\n",
    "\n",
    "try:\n",
    "    # Ouvre l'image d'origine\n",
    "    image = Image.open(\"sympho.jpg\").convert(\"RGBA\")  # ou RGB si tu veux sans transparence\n",
    "\n",
    "    # Redimensionale et sauvegarde chaque image\n",
    "    for size in sizes:\n",
    "        resized = image.resize(size, Image.Resampling.LANCZOS)\n",
    "        resized.save(f\"favicon_{size[0]}x{size[1]}.png\")\n",
    "        print(f\"Image sauvegardée : favicon_{size[0]}x{size[1]}.png\")\n",
    "\n",
    "    print(\"Toutes les images ont été générées avec succès.\")\n",
    "\n",
    "except FileNotFoundError:\n",
    "    print(\"Erreur : Le fichier 'sympho.jpg' est introuvable dans le répertoire courant.\")\n",
    "\n"
   ]
  },
  {
   "cell_type": "code",
   "execution_count": 2,
   "id": "8cf22feb",
   "metadata": {},
   "outputs": [
    {
     "name": "stdout",
     "output_type": "stream",
     "text": [
      "Defaulting to user installation because normal site-packages is not writeable\n",
      "Requirement already satisfied: pillow in c:\\users\\symph\\appdata\\local\\packages\\pythonsoftwarefoundation.python.3.13_qbz5n2kfra8p0\\localcache\\local-packages\\python313\\site-packages (11.1.0)\n",
      "Requirement already satisfied: flask in c:\\users\\symph\\appdata\\local\\packages\\pythonsoftwarefoundation.python.3.13_qbz5n2kfra8p0\\localcache\\local-packages\\python313\\site-packages (3.0.3)\n",
      "Requirement already satisfied: Werkzeug>=3.0.0 in c:\\users\\symph\\appdata\\local\\packages\\pythonsoftwarefoundation.python.3.13_qbz5n2kfra8p0\\localcache\\local-packages\\python313\\site-packages (from flask) (3.0.6)\n",
      "Requirement already satisfied: Jinja2>=3.1.2 in c:\\users\\symph\\appdata\\local\\packages\\pythonsoftwarefoundation.python.3.13_qbz5n2kfra8p0\\localcache\\local-packages\\python313\\site-packages (from flask) (3.1.5)\n",
      "Requirement already satisfied: itsdangerous>=2.1.2 in c:\\users\\symph\\appdata\\local\\packages\\pythonsoftwarefoundation.python.3.13_qbz5n2kfra8p0\\localcache\\local-packages\\python313\\site-packages (from flask) (2.2.0)\n",
      "Requirement already satisfied: click>=8.1.3 in c:\\users\\symph\\appdata\\local\\packages\\pythonsoftwarefoundation.python.3.13_qbz5n2kfra8p0\\localcache\\local-packages\\python313\\site-packages (from flask) (8.1.8)\n",
      "Requirement already satisfied: blinker>=1.6.2 in c:\\users\\symph\\appdata\\local\\packages\\pythonsoftwarefoundation.python.3.13_qbz5n2kfra8p0\\localcache\\local-packages\\python313\\site-packages (from flask) (1.9.0)\n",
      "Requirement already satisfied: colorama in c:\\users\\symph\\appdata\\local\\packages\\pythonsoftwarefoundation.python.3.13_qbz5n2kfra8p0\\localcache\\local-packages\\python313\\site-packages (from click>=8.1.3->flask) (0.4.6)\n",
      "Requirement already satisfied: MarkupSafe>=2.0 in c:\\users\\symph\\appdata\\local\\packages\\pythonsoftwarefoundation.python.3.13_qbz5n2kfra8p0\\localcache\\local-packages\\python313\\site-packages (from Jinja2>=3.1.2->flask) (3.0.2)\n"
     ]
    }
   ],
   "source": [
    "%pip install pillow flask\n"
   ]
  }
 ],
 "metadata": {
  "kernelspec": {
   "display_name": "Python 3",
   "language": "python",
   "name": "python3"
  },
  "language_info": {
   "codemirror_mode": {
    "name": "ipython",
    "version": 3
   },
   "file_extension": ".py",
   "mimetype": "text/x-python",
   "name": "python",
   "nbconvert_exporter": "python",
   "pygments_lexer": "ipython3",
   "version": "3.13.3"
  }
 },
 "nbformat": 4,
 "nbformat_minor": 5
}
